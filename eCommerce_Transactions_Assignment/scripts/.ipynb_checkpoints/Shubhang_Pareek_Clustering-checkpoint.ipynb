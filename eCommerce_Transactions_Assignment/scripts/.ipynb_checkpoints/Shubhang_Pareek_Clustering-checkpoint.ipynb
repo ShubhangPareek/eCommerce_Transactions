{
 "cells": [
  {
   "cell_type": "code",
   "execution_count": 1,
   "metadata": {},
   "outputs": [
    {
     "ename": "NameError",
     "evalue": "name 'customer_profiles' is not defined",
     "output_type": "error",
     "traceback": [
      "\u001b[0;31m---------------------------------------------------------------------------\u001b[0m",
      "\u001b[0;31mNameError\u001b[0m                                 Traceback (most recent call last)",
      "Cell \u001b[0;32mIn[1], line 12\u001b[0m\n\u001b[1;32m      8\u001b[0m \u001b[38;5;28;01mimport\u001b[39;00m\u001b[38;5;250m \u001b[39m\u001b[38;5;21;01mseaborn\u001b[39;00m\u001b[38;5;250m \u001b[39m\u001b[38;5;28;01mas\u001b[39;00m\u001b[38;5;250m \u001b[39m\u001b[38;5;21;01msns\u001b[39;00m\n\u001b[1;32m     10\u001b[0m \u001b[38;5;66;03m# Step 1: Use the customer_profiles DataFrame\u001b[39;00m\n\u001b[1;32m     11\u001b[0m \u001b[38;5;66;03m# Ensure customer_profiles is defined\u001b[39;00m\n\u001b[0;32m---> 12\u001b[0m \u001b[38;5;28mprint\u001b[39m(\u001b[43mcustomer_profiles\u001b[49m\u001b[38;5;241m.\u001b[39mhead())\n\u001b[1;32m     14\u001b[0m \u001b[38;5;66;03m# Normalize the data\u001b[39;00m\n\u001b[1;32m     15\u001b[0m scaler \u001b[38;5;241m=\u001b[39m StandardScaler()\n",
      "\u001b[0;31mNameError\u001b[0m: name 'customer_profiles' is not defined"
     ]
    }
   ],
   "source": [
    "import pandas as pd\n",
    "import numpy as np\n",
    "from sklearn.cluster import KMeans\n",
    "from sklearn.preprocessing import StandardScaler\n",
    "from sklearn.decomposition import PCA\n",
    "from sklearn.metrics import davies_bouldin_score\n",
    "import matplotlib.pyplot as plt\n",
    "import seaborn as sns\n",
    "\n",
    "# Step 1: Use the customer_profiles DataFrame\n",
    "# Ensure customer_profiles is defined\n",
    "print(customer_profiles.head())\n",
    "\n",
    "# Normalize the data\n",
    "scaler = StandardScaler()\n",
    "customer_profiles_normalized = scaler.fit_transform(customer_profiles)\n",
    "\n",
    "# Step 2: Apply K-Means Clustering\n",
    "# Experiment with k values\n",
    "k_values = range(2, 11)\n",
    "db_indices = []\n",
    "\n",
    "for k in k_values:\n",
    "    kmeans = KMeans(n_clusters=k, random_state=42)\n",
    "    labels = kmeans.fit_predict(customer_profiles_normalized)\n",
    "    \n",
    "    # Calculate DB Index\n",
    "    db_index = davies_bouldin_score(customer_profiles_normalized, labels)\n",
    "    db_indices.append(db_index)\n",
    "\n",
    "# Find the best k (lowest DB Index)\n",
    "optimal_k = k_values[np.argmin(db_indices)]\n",
    "print(f\"Optimal number of clusters: {optimal_k}\")\n",
    "\n",
    "# Refit KMeans with optimal k\n",
    "kmeans = KMeans(n_clusters=optimal_k, random_state=42)\n",
    "labels = kmeans.fit_predict(customer_profiles_normalized)\n",
    "\n",
    "# Step 3: Visualize Clusters\n",
    "# Reduce dimensions using PCA\n",
    "pca = PCA(n_components=2)\n",
    "reduced_data = pca.fit_transform(customer_profiles_normalized)\n",
    "\n",
    "# Create a DataFrame with cluster labels\n",
    "clustered_data = pd.DataFrame(reduced_data, columns=['PC1', 'PC2'])\n",
    "clustered_data['Cluster'] = labels\n",
    "\n",
    "# Plot clusters\n",
    "plt.figure(figsize=(10, 6))\n",
    "sns.scatterplot(data=clustered_data, x='PC1', y='PC2', hue='Cluster', palette='viridis', s=100)\n",
    "plt.title('Customer Segments (K-Means Clustering)')\n",
    "plt.xlabel('Principal Component 1')\n",
    "plt.ylabel('Principal Component 2')\n",
    "plt.legend(title='Cluster')\n",
    "plt.show()\n",
    "\n",
    "# Step 4: Save Clustering Report\n",
    "# Calculate DB Index for the optimal k\n",
    "final_db_index = davies_bouldin_score(customer_profiles_normalized, labels)\n",
    "print(f\"Davies-Bouldin Index for optimal k ({optimal_k}): {final_db_index}\")\n",
    "\n",
    "# Save clustering results and metrics\n",
    "clustered_data['CustomerID'] = customer_profiles.index\n",
    "clustered_data.to_csv('../outputs/FirstName_LastName_Clustering.csv', index=False)\n",
    "\n",
    "# Save clustering report as PDF (manually describe findings)"
   ]
  },
  {
   "cell_type": "code",
   "execution_count": null,
   "metadata": {},
   "outputs": [],
   "source": []
  }
 ],
 "metadata": {
  "kernelspec": {
   "display_name": "Python 3 (ipykernel)",
   "language": "python",
   "name": "python3"
  },
  "language_info": {
   "codemirror_mode": {
    "name": "ipython",
    "version": 3
   },
   "file_extension": ".py",
   "mimetype": "text/x-python",
   "name": "python",
   "nbconvert_exporter": "python",
   "pygments_lexer": "ipython3",
   "version": "3.10.12"
  }
 },
 "nbformat": 4,
 "nbformat_minor": 4
}
