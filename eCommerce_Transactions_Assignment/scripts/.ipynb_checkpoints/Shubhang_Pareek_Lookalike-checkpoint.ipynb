{
 "cells": [
  {
   "cell_type": "code",
   "execution_count": null,
   "metadata": {},
   "outputs": [],
   "source": [
    "from sklearn.metrics.pairwise import cosine_similarity\n",
    "import numpy as np\n",
    "\n",
    "# Prepare data for similarity\n",
    "customer_profiles = data.groupby('CustomerID')[['Price', 'Quantity', 'TotalValue']].sum()\n",
    "\n",
    "# Normalize data\n",
    "customer_profiles_normalized = (customer_profiles - customer_profiles.min()) / (customer_profiles.max() - customer_profiles.min())\n",
    "\n",
    "# Compute similarity\n",
    "similarity_matrix = cosine_similarity(customer_profiles_normalized)\n",
    "similarity_df = pd.DataFrame(similarity_matrix, index=customer_profiles.index, columns=customer_profiles.index)\n",
    "\n",
    "# Find top 3 similar customers for CustomerID C0001 - C0020\n",
    "lookalikes = {}\n",
    "for customer_id in customer_profiles.index[:20]:\n",
    "    similar_customers = similarity_df[customer_id].sort_values(ascending=False)[1:4]  # Top 3 excluding self\n",
    "    lookalikes[customer_id] = list(similar_customers.items())\n",
    "\n",
    "# Save results\n",
    "lookalikes_df = pd.DataFrame.from_dict(lookalikes, orient='index', columns=['Customer1', 'Customer2', 'Customer3'])\n",
    "lookalikes_df.to_csv('../outputs/FirstName_LastName_Lookalike.csv', index=True)"
   ]
  }
 ],
 "metadata": {
  "language_info": {
   "name": "python"
  }
 },
 "nbformat": 4,
 "nbformat_minor": 2
}
