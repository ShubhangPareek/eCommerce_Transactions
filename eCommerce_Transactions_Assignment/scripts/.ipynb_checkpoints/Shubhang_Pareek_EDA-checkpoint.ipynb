{
 "cells": [
  {
   "cell_type": "code",
   "execution_count": null,
   "metadata": {},
   "outputs": [],
   "source": [
    "import pandas as pd\n",
    "import matplotlib.pyplot as plt\n",
    "import seaborn as sns\n",
    "\n",
    "# Load datasets\n",
    "customers = pd.read_csv('../data/Customers.csv')\n",
    "products = pd.read_csv('../data/Products.csv')\n",
    "transactions = pd.read_csv('../data/Transactions.csv')\n",
    "\n",
    "# Check dataset summaries\n",
    "print(customers.info())\n",
    "print(products.info())\n",
    "print(transactions.info())\n",
    "\n",
    "# Handle missing values\n",
    "print(customers.isnull().sum())\n",
    "print(products.isnull().sum())\n",
    "print(transactions.isnull().sum())\n",
    "\n",
    "# Merge datasets\n",
    "data = pd.merge(transactions, customers, on='CustomerID')\n",
    "data = pd.merge(data, products, on='ProductID')\n",
    "\n",
    "# Example visualization\n",
    "plt.figure(figsize=(10, 6))\n",
    "sns.countplot(data=data, x='Region', order=data['Region'].value_counts().index)\n",
    "plt.title('Customer Distribution by Region')\n",
    "plt.xticks(rotation=45)\n",
    "plt.show()\n",
    "\n",
    "# Save business insights to PDF\n",
    "# Generate insights as a markdown/pdf report using any preferred tool."
   ]
  }
 ],
 "metadata": {
  "language_info": {
   "name": "python"
  }
 },
 "nbformat": 4,
 "nbformat_minor": 2
}
