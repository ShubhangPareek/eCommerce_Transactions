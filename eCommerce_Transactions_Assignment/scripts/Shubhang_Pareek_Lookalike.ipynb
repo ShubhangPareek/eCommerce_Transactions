{
 "cells": [
  {
   "cell_type": "code",
   "execution_count": 1,
   "metadata": {},
   "outputs": [
    {
     "name": "stdout",
     "output_type": "stream",
     "text": [
      "Index(['TransactionID', 'CustomerID', 'ProductID', 'TransactionDate',\n",
      "       'Quantity', 'TotalValue', 'CustomerName', 'Region', 'SignupDate',\n",
      "       'ProductName', 'Category', 'Price'],\n",
      "      dtype='object')\n"
     ]
    }
   ],
   "source": [
    "import pandas as pd\n",
    "import numpy as np\n",
    "from sklearn.metrics.pairwise import cosine_similarity\n",
    "\n",
    "# Load datasets\n",
    "customers = pd.read_csv('../data/Customers.csv')\n",
    "products = pd.read_csv('../data/Products.csv')\n",
    "transactions = pd.read_csv('../data/Transactions.csv')\n",
    "\n",
    "# Merge datasets\n",
    "data = pd.merge(transactions, customers, on='CustomerID')\n",
    "data = pd.merge(data, products, on='ProductID')\n",
    "\n",
    "# Resolve duplicate columns\n",
    "# Use 'Price_y' and drop 'Price_x'\n",
    "data = data.rename(columns={'Price_y': 'Price'}).drop(columns=['Price_x'])\n",
    "\n",
    "# Verify column names\n",
    "print(data.columns)\n",
    "\n",
    "# Prepare data for similarity\n",
    "customer_profiles = data.groupby('CustomerID')[['Price', 'Quantity', 'TotalValue']].sum()\n",
    "\n",
    "# Normalize data\n",
    "customer_profiles_normalized = (customer_profiles - customer_profiles.min()) / (customer_profiles.max() - customer_profiles.min())\n",
    "\n",
    "# Compute similarity\n",
    "similarity_matrix = cosine_similarity(customer_profiles_normalized)\n",
    "similarity_df = pd.DataFrame(similarity_matrix, index=customer_profiles.index, columns=customer_profiles.index)\n",
    "\n",
    "# Find top 3 similar customers for CustomerID C0001 - C0020\n",
    "lookalikes = {}\n",
    "for customer_id in customer_profiles.index[:20]:  # First 20 customers\n",
    "    similar_customers = similarity_df[customer_id].sort_values(ascending=False)[1:4]  # Exclude self\n",
    "    lookalikes[customer_id] = list(similar_customers.items())\n",
    "\n",
    "# Convert lookalikes dictionary to DataFrame\n",
    "lookalikes_df = pd.DataFrame.from_dict(lookalikes, orient='index', columns=['Customer1', 'Customer2', 'Customer3'])\n",
    "\n",
    "# Save results\n",
    "lookalikes_df.to_csv('../outputs/FirstName_LastName_Lookalike.csv', index=True)"
   ]
  },
  {
   "cell_type": "code",
   "execution_count": null,
   "metadata": {},
   "outputs": [],
   "source": []
  }
 ],
 "metadata": {
  "kernelspec": {
   "display_name": "Python 3 (ipykernel)",
   "language": "python",
   "name": "python3"
  },
  "language_info": {
   "codemirror_mode": {
    "name": "ipython",
    "version": 3
   },
   "file_extension": ".py",
   "mimetype": "text/x-python",
   "name": "python",
   "nbconvert_exporter": "python",
   "pygments_lexer": "ipython3",
   "version": "3.10.12"
  }
 },
 "nbformat": 4,
 "nbformat_minor": 4
}
